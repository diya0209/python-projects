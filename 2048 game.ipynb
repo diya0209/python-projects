{
 "cells": [
  {
   "cell_type": "code",
   "execution_count": 2,
   "id": "e2b93111",
   "metadata": {},
   "outputs": [],
   "source": [
    "import random"
   ]
  },
  {
   "cell_type": "code",
   "execution_count": 3,
   "id": "dfe699be",
   "metadata": {},
   "outputs": [],
   "source": [
    "def start_game():\n",
    "    mat = [[0] * 4 for _ in range(4)]\n",
    "    add_new_2(mat)\n",
    "    add_new_2(mat)\n",
    "    return mat"
   ]
  },
  {
   "cell_type": "code",
   "execution_count": 4,
   "id": "b196a6e6",
   "metadata": {},
   "outputs": [],
   "source": [
    "def add_new_2(mat):\n",
    "    empty_cells = [(i, j) for i in range(4) for j in range(4) if mat[i][j] == 0]\n",
    "    if empty_cells:\n",
    "        i, j = random.choice(empty_cells)\n",
    "        mat[i][j] = 2"
   ]
  },
  {
   "cell_type": "code",
   "execution_count": 5,
   "id": "a79be2e1",
   "metadata": {},
   "outputs": [],
   "source": [
    "def print_board(mat):\n",
    "    for row in mat:\n",
    "        print(\"+----\" * 4 + \"+\")\n",
    "        print(\"\".join(f\"|{num:^4}\" if num > 0 else \"|    \" for num in row) + \"|\")\n",
    "    print(\"+----\" * 4 + \"+\\n\")"
   ]
  },
  {
   "cell_type": "code",
   "execution_count": 6,
   "id": "f7c2f49b",
   "metadata": {},
   "outputs": [],
   "source": [
    "def compress(mat):\n",
    "    new_mat = [[0]*4 for _ in range(4)]\n",
    "    changed = False\n",
    "    for i in range(4):\n",
    "        pos = 0\n",
    "        for j in range(4):\n",
    "            if mat[i][j] != 0:\n",
    "                new_mat[i][pos] = mat[i][j]\n",
    "                if j != pos:\n",
    "                    changed = True\n",
    "                pos += 1\n",
    "    return new_mat, changed"
   ]
  },
  {
   "cell_type": "code",
   "execution_count": 7,
   "id": "8a1ce2d6",
   "metadata": {},
   "outputs": [],
   "source": [
    "def merge(mat):\n",
    "    changed = False\n",
    "    for i in range(4):\n",
    "        for j in range(3):\n",
    "            if mat[i][j] == mat[i][j+1] and mat[i][j] != 0:\n",
    "                mat[i][j] *= 2\n",
    "                mat[i][j+1] = 0\n",
    "                changed = True\n",
    "    return mat, changed"
   ]
  },
  {
   "cell_type": "code",
   "execution_count": 8,
   "id": "89478dde",
   "metadata": {},
   "outputs": [],
   "source": [
    "def reverse(mat):\n",
    "    return [row[::-1] for row in mat]"
   ]
  },
  {
   "cell_type": "code",
   "execution_count": 9,
   "id": "cf495732",
   "metadata": {},
   "outputs": [],
   "source": [
    "def transpose(mat):\n",
    "    return [list(row) for row in zip(*mat)]"
   ]
  },
  {
   "cell_type": "code",
   "execution_count": 10,
   "id": "8b6de3ba",
   "metadata": {},
   "outputs": [],
   "source": [
    "def move_left(mat):\n",
    "    compressed, changed1 = compress(mat)\n",
    "    merged, changed2 = merge(compressed)\n",
    "    compressed, _ = compress(merged)\n",
    "    return compressed, changed1 or changed2\n",
    "\n",
    "def move_right(mat):\n",
    "    reversed_mat = reverse(mat)\n",
    "    new_mat, changed = move_left(reversed_mat)\n",
    "    return reverse(new_mat), changed\n",
    "\n",
    "def move_up(mat):\n",
    "    transposed = transpose(mat)\n",
    "    new_mat, changed = move_left(transposed)\n",
    "    return transpose(new_mat), changed\n",
    "\n",
    "def move_down(mat):\n",
    "    transposed = transpose(mat)\n",
    "    new_mat, changed = move_right(transposed)\n",
    "    return transpose(new_mat), changed"
   ]
  },
  {
   "cell_type": "code",
   "execution_count": 11,
   "id": "b8db330b",
   "metadata": {},
   "outputs": [],
   "source": [
    "def get_current_state(mat):\n",
    "    for row in mat:\n",
    "        if 2048 in row:\n",
    "            return 'WON'\n",
    "    for row in mat:\n",
    "        if 0 in row:\n",
    "            return 'GAME NOT OVER'\n",
    "    for i in range(3):\n",
    "        for j in range(3):\n",
    "            if mat[i][j] == mat[i][j+1] or mat[i][j] == mat[i+1][j]:\n",
    "                return 'GAME NOT OVER'\n",
    "    for j in range(3):\n",
    "        if mat[3][j] == mat[3][j+1]:\n",
    "            return 'GAME NOT OVER'\n",
    "    for i in range(3):\n",
    "        if mat[i][3] == mat[i+1][3]:\n",
    "            return 'GAME NOT OVER'\n",
    "    return 'LOST'"
   ]
  },
  {
   "cell_type": "code",
   "execution_count": null,
   "id": "687ec7f2",
   "metadata": {},
   "outputs": [
    {
     "name": "stdout",
     "output_type": "stream",
     "text": [
      "+----+----+----+----+\n",
      "|    |    |    |    |\n",
      "+----+----+----+----+\n",
      "| 2  |    |    |    |\n",
      "+----+----+----+----+\n",
      "|    |    |    | 2  |\n",
      "+----+----+----+----+\n",
      "|    |    |    |    |\n",
      "+----+----+----+----+\n",
      "\n",
      "Enter move (U/D/R/L): r\n",
      "+----+----+----+----+\n",
      "|    |    |    |    |\n",
      "+----+----+----+----+\n",
      "|    |    |    | 2  |\n",
      "+----+----+----+----+\n",
      "|    |    |    | 2  |\n",
      "+----+----+----+----+\n",
      "|    |    | 2  |    |\n",
      "+----+----+----+----+\n",
      "\n",
      "Enter move (U/D/R/L): d\n",
      "+----+----+----+----+\n",
      "|    |    |    |    |\n",
      "+----+----+----+----+\n",
      "|    | 2  |    |    |\n",
      "+----+----+----+----+\n",
      "|    |    |    |    |\n",
      "+----+----+----+----+\n",
      "|    |    | 2  | 4  |\n",
      "+----+----+----+----+\n",
      "\n",
      "Enter move (U/D/R/L): d\n",
      "+----+----+----+----+\n",
      "|    |    |    | 2  |\n",
      "+----+----+----+----+\n",
      "|    |    |    |    |\n",
      "+----+----+----+----+\n",
      "|    |    |    |    |\n",
      "+----+----+----+----+\n",
      "|    | 2  | 2  | 4  |\n",
      "+----+----+----+----+\n",
      "\n",
      "Enter move (U/D/R/L): r\n",
      "+----+----+----+----+\n",
      "|    |    |    | 2  |\n",
      "+----+----+----+----+\n",
      "|    | 2  |    |    |\n",
      "+----+----+----+----+\n",
      "|    |    |    |    |\n",
      "+----+----+----+----+\n",
      "|    |    | 4  | 4  |\n",
      "+----+----+----+----+\n",
      "\n",
      "Enter move (U/D/R/L): r\n",
      "+----+----+----+----+\n",
      "|    |    |    | 2  |\n",
      "+----+----+----+----+\n",
      "|    |    | 2  | 2  |\n",
      "+----+----+----+----+\n",
      "|    |    |    |    |\n",
      "+----+----+----+----+\n",
      "|    |    |    | 8  |\n",
      "+----+----+----+----+\n",
      "\n"
     ]
    }
   ],
   "source": [
    "mat = start_game()\n",
    "\n",
    "while True:\n",
    "    print_board(mat)\n",
    "    move = input(\"Enter move (U/D/R/L): \").lower()\n",
    "\n",
    "    if move not in ['u', 'd', 'r', 'l']:\n",
    "        print(\"Invalid input! Try again.\")\n",
    "        continue\n",
    "\n",
    "    if move == 'u':\n",
    "        mat, changed = move_up(mat)\n",
    "    elif move == 'd':\n",
    "        mat, changed = move_down(mat)\n",
    "    elif move == 'l':\n",
    "        mat, changed = move_left(mat)\n",
    "    elif move == 'r':\n",
    "        mat, changed = move_right(mat)\n",
    "\n",
    "    if changed:\n",
    "        add_new_2(mat)\n",
    "\n",
    "    state = get_current_state(mat)\n",
    "    if state == 'WON':\n",
    "        print_board(mat)\n",
    "        print(\"🎉 You won!\")\n",
    "        break\n",
    "    elif state == 'LOST':\n",
    "        print_board(mat)\n",
    "        print(\"💀 Game over!\")\n",
    "        break"
   ]
  },
  {
   "cell_type": "code",
   "execution_count": null,
   "id": "a07c121b",
   "metadata": {},
   "outputs": [],
   "source": []
  }
 ],
 "metadata": {
  "kernelspec": {
   "display_name": "Python 3 (ipykernel)",
   "language": "python",
   "name": "python3"
  },
  "language_info": {
   "codemirror_mode": {
    "name": "ipython",
    "version": 3
   },
   "file_extension": ".py",
   "mimetype": "text/x-python",
   "name": "python",
   "nbconvert_exporter": "python",
   "pygments_lexer": "ipython3",
   "version": "3.11.4"
  }
 },
 "nbformat": 4,
 "nbformat_minor": 5
}
